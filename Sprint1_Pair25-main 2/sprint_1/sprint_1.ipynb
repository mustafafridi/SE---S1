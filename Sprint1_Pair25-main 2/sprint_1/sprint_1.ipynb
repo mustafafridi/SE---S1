{
 "cells": [
  {
   "cell_type": "markdown",
   "metadata": {},
   "source": [
    "### Testind the Dbc  and the Dco methods"
   ]
  },
  {
   "cell_type": "code",
   "execution_count": 2,
   "metadata": {},
   "outputs": [],
   "source": [
    "from dbc import Dbc \n",
    "from dco import Dco\n",
    "wcs_server = 'https://ows.rasdaman.org/rasdaman/ows'\n",
    "db_connection = Dbc(wcs_server)\n"
   ]
  },
  {
   "cell_type": "code",
   "execution_count": 3,
   "metadata": {},
   "outputs": [
    {
     "name": "stdout",
     "output_type": "stream",
     "text": [
      "b'\"218.6 20.4 35.6\"'\n"
     ]
    }
   ],
   "source": [
    "d2 = Dco(db_connection)\n",
    "d2.getAverageAvgTempColor(53.08,8.80)\n"
   ]
  },
  {
   "cell_type": "code",
   "execution_count": 4,
   "metadata": {},
   "outputs": [
    {
     "name": "stdout",
     "output_type": "stream",
     "text": [
      "CSV file saved successfully.\n"
     ]
    }
   ],
   "source": [
    "d2.getMainAvgTempColor(53.08,8.80)"
   ]
  },
  {
   "cell_type": "code",
   "execution_count": 5,
   "metadata": {},
   "outputs": [
    {
     "name": "stdout",
     "output_type": "stream",
     "text": [
      "b'\"187 0 0\"'\n"
     ]
    }
   ],
   "source": [
    "d2.getMinTempColor(53.08,8.80)"
   ]
  },
  {
   "cell_type": "code",
   "execution_count": 6,
   "metadata": {},
   "outputs": [
    {
     "name": "stdout",
     "output_type": "stream",
     "text": [
      "b'\"237 62 123\"'\n"
     ]
    }
   ],
   "source": [
    "d2.getMaxTempColor(53.08,8.80)"
   ]
  },
  {
   "cell_type": "markdown",
   "metadata": {},
   "source": [
    "### Testing the CoverageInfo Class"
   ]
  },
  {
   "cell_type": "code",
   "execution_count": 7,
   "metadata": {},
   "outputs": [],
   "source": [
    "\n",
    "from CoverageInfo import AvgTemperatureColorInfo\n"
   ]
  },
  {
   "cell_type": "code",
   "execution_count": 9,
   "metadata": {},
   "outputs": [
    {
     "name": "stdout",
     "output_type": "stream",
     "text": [
      "abstract\n",
      "axisDescriptions\n",
      "boundingBox\n",
      "boundingBoxWGS84\n",
      "boundingboxes\n",
      "crsOptions\n",
      "defaulttimeposition\n",
      "grid\n",
      "id\n",
      "keywords\n",
      "styles\n",
      "supportedCRS\n",
      "supportedFormats\n",
      "timelimits\n",
      "timepositions\n",
      "title\n"
     ]
    }
   ],
   "source": [
    "AvgTempColor = AvgTemperatureColorInfo(wcs_server)\n",
    "AvgTempColor.getMetaData()\n"
   ]
  },
  {
   "cell_type": "code",
   "execution_count": 10,
   "metadata": {},
   "outputs": [
    {
     "name": "stdout",
     "output_type": "stream",
     "text": [
      "axislabels: ['ansi', 'Lat', 'Lon']\n",
      "dimension: 3\n",
      "highlimits: ['184', '1799', '3599']\n",
      "lowlimits: ['0', '0', '0']\n",
      "offsetvectors: [['1', '0', '0'], ['0', '-0.1', '0'], ['0', '0', '0.1']]\n",
      "origin: ['\"2000-02-01T00:00:00.000Z\"', '89.95', '-179.95']\n"
     ]
    }
   ],
   "source": [
    "AvgTempColor.getGridInfo()\n"
   ]
  },
  {
   "cell_type": "code",
   "execution_count": 11,
   "metadata": {},
   "outputs": [
    {
     "name": "stdout",
     "output_type": "stream",
     "text": [
      "['application/gml+xml', 'image/jpeg', 'image/png', 'image/tiff', 'image/gtiff', 'image/bmp', 'image/jp2', 'application/netcdf', 'text/csv', 'application/json', 'application/dem', 'application/x-ogc-dted', 'application/x-ogc-ehdr', 'application/x-ogc-elas', 'application/x-ogc-envi', 'application/x-ogc-ers', 'application/x-ogc-fit', 'application/x-ogc-fits', 'image/gif', 'application/x-netcdf-gmt', 'application/x-ogc-gs7bg', 'application/x-ogc-gsag', 'application/x-ogc-gsbg', 'application/x-ogc-gta', 'application/x-ogc-hf2', 'application/x-erdas-hfa', 'application/x-ogc-ida', 'application/x-ogc-ingr', 'application/x-ogc-isis2', 'application/x-erdas-lan', 'application/x-ogc-mff2', 'application/x-ogc-nitf', 'application/x-ogc-paux', 'application/x-ogc-pcidsk', 'application/x-ogc-pcraster', 'application/x-ogc-pdf', 'application/x-ogc-pnm', 'text/x-r', 'application/x-ogc-rmf', 'image/x-sgi', 'application/x-ogc-vrt', 'image/xpm', 'application/x-ogc-zmap', 'text/html']\n"
     ]
    }
   ],
   "source": [
    "AvgTempColor.getSupportedFormat()\n",
    "\n"
   ]
  },
  {
   "cell_type": "code",
   "execution_count": 12,
   "metadata": {},
   "outputs": [
    {
     "name": "stdout",
     "output_type": "stream",
     "text": [
      "2000-02-01T00:00:00\n",
      "2000-03-01T00:00:00\n",
      "2000-04-01T00:00:00\n",
      "2000-05-01T00:00:00\n",
      "2000-06-01T00:00:00\n",
      "2000-07-01T00:00:00\n",
      "2000-08-01T00:00:00\n",
      "2000-09-01T00:00:00\n",
      "2000-10-01T00:00:00\n",
      "2000-11-01T00:00:00\n"
     ]
    }
   ],
   "source": [
    "AvgTempColor.getTimePositions()"
   ]
  }
 ],
 "metadata": {
  "kernelspec": {
   "display_name": "base",
   "language": "python",
   "name": "python3"
  },
  "language_info": {
   "codemirror_mode": {
    "name": "ipython",
    "version": 3
   },
   "file_extension": ".py",
   "mimetype": "text/x-python",
   "name": "python",
   "nbconvert_exporter": "python",
   "pygments_lexer": "ipython3",
   "version": "3.9.13"
  }
 },
 "nbformat": 4,
 "nbformat_minor": 2
}
